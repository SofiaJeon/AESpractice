{
  "cells": [
    {
      "cell_type": "markdown",
      "metadata": {
        "id": "view-in-github",
        "colab_type": "text"
      },
      "source": [
        "<a href=\"https://colab.research.google.com/github/SofiaJeon/AESpractice/blob/master/Kplayground_preprocessing.ipynb\" target=\"_parent\"><img src=\"https://colab.research.google.com/assets/colab-badge.svg\" alt=\"Open In Colab\"/></a>"
      ]
    },
    {
      "cell_type": "code",
      "execution_count": null,
      "id": "7018f31b",
      "metadata": {
        "ExecuteTime": {
          "end_time": "2022-06-27T21:43:57.434419Z",
          "start_time": "2022-06-27T21:43:57.424253Z"
        },
        "id": "7018f31b"
      },
      "outputs": [],
      "source": [
        "import numpy as np\n",
        "import pandas as pd"
      ]
    },
    {
      "cell_type": "code",
      "execution_count": null,
      "id": "c575d43d",
      "metadata": {
        "ExecuteTime": {
          "end_time": "2022-06-27T21:32:58.452254Z",
          "start_time": "2022-06-27T21:32:58.411986Z"
        },
        "id": "c575d43d"
      },
      "outputs": [],
      "source": [
        "kp_df = pd.read_csv('./Kplayground_v8.csv')"
      ]
    },
    {
      "cell_type": "markdown",
      "id": "bbca02d0",
      "metadata": {
        "heading_collapsed": true,
        "id": "bbca02d0"
      },
      "source": [
        "# preprocessing"
      ]
    },
    {
      "cell_type": "markdown",
      "id": "4e1e2a23",
      "metadata": {
        "hidden": true,
        "id": "4e1e2a23"
      },
      "source": [
        "깨지는 name 제거"
      ]
    },
    {
      "cell_type": "code",
      "execution_count": null,
      "id": "3bbe2c92",
      "metadata": {
        "ExecuteTime": {
          "end_time": "2022-06-26T16:29:09.535714Z",
          "start_time": "2022-06-26T16:29:09.528767Z"
        },
        "hidden": true,
        "id": "3bbe2c92"
      },
      "outputs": [],
      "source": [
        "for i, name in enumerate(kp_df.name.tolist()):\n",
        "    if '' in name:\n",
        "        print(i, name)"
      ]
    },
    {
      "cell_type": "markdown",
      "id": "82795800",
      "metadata": {
        "ExecuteTime": {
          "end_time": "2022-06-25T11:39:02.202668Z",
          "start_time": "2022-06-25T11:39:02.177587Z"
        },
        "hidden": true,
        "id": "82795800"
      },
      "source": [
        "city -> city + district"
      ]
    },
    {
      "cell_type": "code",
      "execution_count": null,
      "id": "7f705b49",
      "metadata": {
        "ExecuteTime": {
          "end_time": "2022-06-26T16:29:25.334977Z",
          "start_time": "2022-06-26T16:29:25.313034Z"
        },
        "hidden": true,
        "id": "7f705b49",
        "outputId": "e69f42c3-dfaa-4a1b-c6d0-47a573111875"
      },
      "outputs": [
        {
          "data": {
            "text/plain": [
              "['부산광역시 북구',\n",
              " '부산광역시 해운대구',\n",
              " '부산광역시 중구',\n",
              " '부산광역시 연제구',\n",
              " '대전광역시 동구',\n",
              " '대전광역시 서구',\n",
              " '경기도 안산시',\n",
              " '경기도 동두천시',\n",
              " '경기도 김포시',\n",
              " '경기도 고양시',\n",
              " '경기도 성남시',\n",
              " '경상남도 김해시',\n",
              " '광주광역시',\n",
              " '인천광역시 미추홀구',\n",
              " '인천광역시 남동구',\n",
              " '인천광역시 서구',\n",
              " '인천광역시 연수구',\n",
              " '제주도',\n",
              " '울산광역시 중구',\n",
              " '울산광역시 남구',\n",
              " '울산광역시 울주군']"
            ]
          },
          "execution_count": 8,
          "metadata": {},
          "output_type": "execute_result"
        }
      ],
      "source": [
        "cities = list(kp_df.city.drop_duplicates())\n",
        "cities"
      ]
    },
    {
      "cell_type": "code",
      "execution_count": null,
      "id": "2cce37c6",
      "metadata": {
        "ExecuteTime": {
          "end_time": "2022-06-26T16:30:59.050989Z",
          "start_time": "2022-06-26T16:30:59.042013Z"
        },
        "hidden": true,
        "id": "2cce37c6"
      },
      "outputs": [],
      "source": [
        "city_list = []\n",
        "district_list = []\n",
        "\n",
        "for city in cities:\n",
        "    city_list.append(city.split()[0])\n",
        "    try:\n",
        "        district_list.append(city.split()[1])\n",
        "    except:\n",
        "        district_list.append('')"
      ]
    },
    {
      "cell_type": "code",
      "execution_count": null,
      "id": "26758845",
      "metadata": {
        "ExecuteTime": {
          "end_time": "2022-06-26T16:31:02.168375Z",
          "start_time": "2022-06-26T16:31:02.154411Z"
        },
        "hidden": true,
        "id": "26758845",
        "outputId": "996672e3-03ed-423c-9bf7-af89ecdd676a"
      },
      "outputs": [
        {
          "data": {
            "text/plain": [
              "{'부산광역시 북구': ['부산광역시', '북구'],\n",
              " '부산광역시 해운대구': ['부산광역시', '해운대구'],\n",
              " '부산광역시 중구': ['부산광역시', '중구'],\n",
              " '부산광역시 연제구': ['부산광역시', '연제구'],\n",
              " '대전광역시 동구': ['대전광역시', '동구'],\n",
              " '대전광역시 서구': ['대전광역시', '서구'],\n",
              " '경기도 안산시': ['경기도', '안산시'],\n",
              " '경기도 동두천시': ['경기도', '동두천시'],\n",
              " '경기도 김포시': ['경기도', '김포시'],\n",
              " '경기도 고양시': ['경기도', '고양시'],\n",
              " '경기도 성남시': ['경기도', '성남시'],\n",
              " '경상남도 김해시': ['경상남도', '김해시'],\n",
              " '광주광역시': ['광주광역시', ''],\n",
              " '인천광역시 미추홀구': ['인천광역시', '미추홀구'],\n",
              " '인천광역시 남동구': ['인천광역시', '남동구'],\n",
              " '인천광역시 서구': ['인천광역시', '서구'],\n",
              " '인천광역시 연수구': ['인천광역시', '연수구'],\n",
              " '제주도': ['제주도', ''],\n",
              " '울산광역시 중구': ['울산광역시', '중구'],\n",
              " '울산광역시 남구': ['울산광역시', '남구'],\n",
              " '울산광역시 울주군': ['울산광역시', '울주군']}"
            ]
          },
          "execution_count": 15,
          "metadata": {},
          "output_type": "execute_result"
        }
      ],
      "source": [
        "city_dict = {}\n",
        "\n",
        "for i, city in enumerate(cities):\n",
        "    city_dict[city] = [city_list[i], district_list[i]]\n",
        "\n",
        "city_dict"
      ]
    },
    {
      "cell_type": "code",
      "execution_count": null,
      "id": "a84efc85",
      "metadata": {
        "ExecuteTime": {
          "end_time": "2022-06-26T16:31:15.255867Z",
          "start_time": "2022-06-26T16:31:15.054168Z"
        },
        "hidden": true,
        "id": "a84efc85"
      },
      "outputs": [],
      "source": [
        "cities = []\n",
        "districts = []\n",
        "\n",
        "for i, row in kp_df.iterrows():\n",
        "    city, district = city_dict[row.city]\n",
        "    cities.append(city)\n",
        "    districts.append(district)"
      ]
    },
    {
      "cell_type": "code",
      "execution_count": null,
      "id": "b8148be2",
      "metadata": {
        "ExecuteTime": {
          "end_time": "2022-06-26T16:31:16.287937Z",
          "start_time": "2022-06-26T16:31:16.269206Z"
        },
        "hidden": true,
        "id": "b8148be2"
      },
      "outputs": [],
      "source": [
        "kp_df['city'] = cities\n",
        "kp_df['district'] = districts"
      ]
    },
    {
      "cell_type": "code",
      "execution_count": null,
      "id": "cbeac35b",
      "metadata": {
        "ExecuteTime": {
          "end_time": "2022-06-26T16:31:17.318261Z",
          "start_time": "2022-06-26T16:31:17.310148Z"
        },
        "hidden": true,
        "id": "cbeac35b"
      },
      "outputs": [],
      "source": [
        "kp_df = kp_df[['city', 'district', 'name', 'address', 'type']]"
      ]
    },
    {
      "cell_type": "code",
      "execution_count": null,
      "id": "b35f223e",
      "metadata": {
        "ExecuteTime": {
          "end_time": "2022-06-26T16:31:28.653089Z",
          "start_time": "2022-06-26T16:31:28.623170Z"
        },
        "hidden": true,
        "id": "b35f223e"
      },
      "outputs": [],
      "source": [
        "kp_df.to_csv('./Kplayground_v8.csv', index=False)"
      ]
    },
    {
      "cell_type": "code",
      "execution_count": null,
      "id": "03f19dcd",
      "metadata": {
        "ExecuteTime": {
          "end_time": "2022-06-26T16:31:32.142661Z",
          "start_time": "2022-06-26T16:31:32.128645Z"
        },
        "hidden": true,
        "id": "03f19dcd",
        "outputId": "1f70f7b9-8c3e-43b1-848d-6ac6cf5a7510"
      },
      "outputs": [
        {
          "data": {
            "text/html": [
              "<div>\n",
              "<style scoped>\n",
              "    .dataframe tbody tr th:only-of-type {\n",
              "        vertical-align: middle;\n",
              "    }\n",
              "\n",
              "    .dataframe tbody tr th {\n",
              "        vertical-align: top;\n",
              "    }\n",
              "\n",
              "    .dataframe thead th {\n",
              "        text-align: right;\n",
              "    }\n",
              "</style>\n",
              "<table border=\"1\" class=\"dataframe\">\n",
              "  <thead>\n",
              "    <tr style=\"text-align: right;\">\n",
              "      <th></th>\n",
              "      <th>city</th>\n",
              "      <th>district</th>\n",
              "      <th>name</th>\n",
              "      <th>address</th>\n",
              "      <th>type</th>\n",
              "    </tr>\n",
              "  </thead>\n",
              "  <tbody>\n",
              "    <tr>\n",
              "      <th>0</th>\n",
              "      <td>부산광역시</td>\n",
              "      <td>북구</td>\n",
              "      <td>음정공원</td>\n",
              "      <td>NaN</td>\n",
              "      <td>public</td>\n",
              "    </tr>\n",
              "    <tr>\n",
              "      <th>1</th>\n",
              "      <td>부산광역시</td>\n",
              "      <td>북구</td>\n",
              "      <td>시랑공원</td>\n",
              "      <td>NaN</td>\n",
              "      <td>public</td>\n",
              "    </tr>\n",
              "    <tr>\n",
              "      <th>2</th>\n",
              "      <td>부산광역시</td>\n",
              "      <td>북구</td>\n",
              "      <td>포천공원</td>\n",
              "      <td>NaN</td>\n",
              "      <td>public</td>\n",
              "    </tr>\n",
              "    <tr>\n",
              "      <th>3</th>\n",
              "      <td>부산광역시</td>\n",
              "      <td>북구</td>\n",
              "      <td>금빛공원</td>\n",
              "      <td>NaN</td>\n",
              "      <td>public</td>\n",
              "    </tr>\n",
              "    <tr>\n",
              "      <th>4</th>\n",
              "      <td>부산광역시</td>\n",
              "      <td>북구</td>\n",
              "      <td>건강공원</td>\n",
              "      <td>NaN</td>\n",
              "      <td>public</td>\n",
              "    </tr>\n",
              "    <tr>\n",
              "      <th>...</th>\n",
              "      <td>...</td>\n",
              "      <td>...</td>\n",
              "      <td>...</td>\n",
              "      <td>...</td>\n",
              "      <td>...</td>\n",
              "    </tr>\n",
              "    <tr>\n",
              "      <th>5429</th>\n",
              "      <td>울산광역시</td>\n",
              "      <td>울주군</td>\n",
              "      <td>울산광역시 울주군 삼남면 울산역로 274 (울산역 신도시 동문굿모닝힐)104동 뒤편</td>\n",
              "      <td>울산광역시 울주군 삼남면 울산역로 274 (울산역 신도시 동문굿모닝힐)104동 뒤편</td>\n",
              "      <td>private</td>\n",
              "    </tr>\n",
              "    <tr>\n",
              "      <th>5430</th>\n",
              "      <td>울산광역시</td>\n",
              "      <td>울주군</td>\n",
              "      <td>울산광역시 울주군 청량읍 삼정로 811 (울산덕하신일해피트리)102동 앞 중앙광장 ...</td>\n",
              "      <td>울산광역시 울주군 청량읍 삼정로 811 (울산덕하신일해피트리)102동 앞 중앙광장 ...</td>\n",
              "      <td>private</td>\n",
              "    </tr>\n",
              "    <tr>\n",
              "      <th>5431</th>\n",
              "      <td>울산광역시</td>\n",
              "      <td>울주군</td>\n",
              "      <td>울산광역시 울주군 청량읍 삼정로 811 (울산덕하신일해피트리)울산 신일덕하 지역주택...</td>\n",
              "      <td>울산광역시 울주군 청량읍 삼정로 811 (울산덕하신일해피트리)울산 신일덕하 지역주택...</td>\n",
              "      <td>private</td>\n",
              "    </tr>\n",
              "    <tr>\n",
              "      <th>5432</th>\n",
              "      <td>울산광역시</td>\n",
              "      <td>울주군</td>\n",
              "      <td>울산광역시 울주군 삼남읍 진장길 144(울산 센트레빌 더 테라스)</td>\n",
              "      <td>울산광역시 울주군 삼남읍 진장길 144(울산 센트레빌 더 테라스)</td>\n",
              "      <td>private</td>\n",
              "    </tr>\n",
              "    <tr>\n",
              "      <th>5433</th>\n",
              "      <td>울산광역시</td>\n",
              "      <td>울주군</td>\n",
              "      <td>울산광역시 울주군 삼남읍 진장길 145(울산 센트레빌 더 테라스)</td>\n",
              "      <td>울산광역시 울주군 삼남읍 진장길 145(울산 센트레빌 더 테라스)</td>\n",
              "      <td>private</td>\n",
              "    </tr>\n",
              "  </tbody>\n",
              "</table>\n",
              "<p>5434 rows × 5 columns</p>\n",
              "</div>"
            ],
            "text/plain": [
              "       city district                                               name  \\\n",
              "0     부산광역시       북구                                               음정공원   \n",
              "1     부산광역시       북구                                               시랑공원   \n",
              "2     부산광역시       북구                                               포천공원   \n",
              "3     부산광역시       북구                                               금빛공원   \n",
              "4     부산광역시       북구                                               건강공원   \n",
              "...     ...      ...                                                ...   \n",
              "5429  울산광역시      울주군     울산광역시 울주군 삼남면 울산역로 274 (울산역 신도시 동문굿모닝힐)104동 뒤편   \n",
              "5430  울산광역시      울주군  울산광역시 울주군 청량읍 삼정로 811 (울산덕하신일해피트리)102동 앞 중앙광장 ...   \n",
              "5431  울산광역시      울주군  울산광역시 울주군 청량읍 삼정로 811 (울산덕하신일해피트리)울산 신일덕하 지역주택...   \n",
              "5432  울산광역시      울주군               울산광역시 울주군 삼남읍 진장길 144(울산 센트레빌 더 테라스)   \n",
              "5433  울산광역시      울주군               울산광역시 울주군 삼남읍 진장길 145(울산 센트레빌 더 테라스)   \n",
              "\n",
              "                                                address     type  \n",
              "0                                                   NaN   public  \n",
              "1                                                   NaN   public  \n",
              "2                                                   NaN   public  \n",
              "3                                                   NaN   public  \n",
              "4                                                   NaN   public  \n",
              "...                                                 ...      ...  \n",
              "5429     울산광역시 울주군 삼남면 울산역로 274 (울산역 신도시 동문굿모닝힐)104동 뒤편  private  \n",
              "5430  울산광역시 울주군 청량읍 삼정로 811 (울산덕하신일해피트리)102동 앞 중앙광장 ...  private  \n",
              "5431  울산광역시 울주군 청량읍 삼정로 811 (울산덕하신일해피트리)울산 신일덕하 지역주택...  private  \n",
              "5432               울산광역시 울주군 삼남읍 진장길 144(울산 센트레빌 더 테라스)  private  \n",
              "5433               울산광역시 울주군 삼남읍 진장길 145(울산 센트레빌 더 테라스)  private  \n",
              "\n",
              "[5434 rows x 5 columns]"
            ]
          },
          "execution_count": 20,
          "metadata": {},
          "output_type": "execute_result"
        }
      ],
      "source": [
        "kp_df"
      ]
    },
    {
      "cell_type": "markdown",
      "id": "1a5e17ed",
      "metadata": {
        "id": "1a5e17ed"
      },
      "source": [
        "# Address 가져오기"
      ]
    },
    {
      "cell_type": "markdown",
      "id": "a88c0b50",
      "metadata": {
        "id": "a88c0b50"
      },
      "source": [
        "## na, notna 분류"
      ]
    },
    {
      "cell_type": "code",
      "execution_count": null,
      "id": "05a13133",
      "metadata": {
        "ExecuteTime": {
          "end_time": "2022-06-27T21:35:40.205351Z",
          "start_time": "2022-06-27T21:35:40.191686Z"
        },
        "id": "05a13133"
      },
      "outputs": [],
      "source": [
        "kp_df_na = kp_df[kp_df.address.isna()].reset_index(drop=True)\n",
        "kp_df_notna = kp_df[kp_df.address.notna()].reset_index(drop=True)"
      ]
    },
    {
      "cell_type": "code",
      "execution_count": null,
      "id": "60d075d2",
      "metadata": {
        "ExecuteTime": {
          "end_time": "2022-06-26T16:31:51.063697Z",
          "start_time": "2022-06-26T16:31:51.024800Z"
        },
        "id": "60d075d2"
      },
      "outputs": [],
      "source": [
        "kp_df_na.to_csv('./Kplayground_na.csv', index=False, encoding='utf-8-sig')\n",
        "kp_df_notna.to_csv('./Kplayground_notna.csv', index=False, encoding='utf-8-sig')"
      ]
    },
    {
      "cell_type": "markdown",
      "id": "9054b100",
      "metadata": {
        "id": "9054b100"
      },
      "source": [
        "## selenium을 이용해서 address crawling"
      ]
    },
    {
      "cell_type": "code",
      "execution_count": null,
      "id": "b2c148cd",
      "metadata": {
        "ExecuteTime": {
          "end_time": "2022-06-26T16:31:55.630046Z",
          "start_time": "2022-06-26T16:31:55.530843Z"
        },
        "id": "b2c148cd"
      },
      "outputs": [],
      "source": [
        "from urllib.request import urlopen\n",
        "from urllib import parse\n",
        "from bs4 import BeautifulSoup"
      ]
    },
    {
      "cell_type": "code",
      "execution_count": null,
      "id": "1812df0c",
      "metadata": {
        "ExecuteTime": {
          "end_time": "2022-06-26T16:31:58.610133Z",
          "start_time": "2022-06-26T16:31:58.478347Z"
        },
        "id": "1812df0c"
      },
      "outputs": [],
      "source": [
        "from selenium import webdriver\n",
        "from selenium.webdriver.common.keys import Keys\n",
        "from selenium.webdriver.common.by import By\n",
        "import time"
      ]
    },
    {
      "cell_type": "code",
      "execution_count": null,
      "id": "03226f33",
      "metadata": {
        "ExecuteTime": {
          "end_time": "2022-06-26T16:33:57.128880Z",
          "start_time": "2022-06-26T16:33:56.102279Z"
        },
        "id": "03226f33",
        "outputId": "effd4512-2925-40d9-8a7c-50ab318e27cf"
      },
      "outputs": [
        {
          "name": "stderr",
          "output_type": "stream",
          "text": [
            "C:\\Users\\yscho\\AppData\\Local\\Temp\\ipykernel_11412\\2986097887.py:1: DeprecationWarning: executable_path has been deprecated, please pass in a Service object\n",
            "  driver = webdriver.Chrome(\"./chromedriver.exe\")\n"
          ]
        }
      ],
      "source": [
        "driver = webdriver.Chrome(\"./chromedriver.exe\")"
      ]
    },
    {
      "cell_type": "code",
      "execution_count": null,
      "id": "1b3f0902",
      "metadata": {
        "ExecuteTime": {
          "end_time": "2022-06-26T17:56:51.486838Z",
          "start_time": "2022-06-26T16:47:48.749179Z"
        },
        "id": "1b3f0902"
      },
      "outputs": [],
      "source": [
        "addrs = []\n",
        "\n",
        "for i in range(len(kp_df_na)):\n",
        "    # 검색어\n",
        "    txt = '{} {} {}'.format(kp_df_na.city.loc[i], kp_df_na.district.loc[i], kp_df_na.name.loc[i])\n",
        "    \n",
        "    # 검색어 encoding\n",
        "    enc = parse.quote(txt)\n",
        "    \n",
        "    # url\n",
        "    url = 'https://map.kakao.com/?q={}'.format(enc)\n",
        "    \n",
        "    # selenium, driver가 url로 이동하도록 함\n",
        "    driver.get(url)\n",
        "    time.sleep(3) # 3초 term\n",
        "    bs = BeautifulSoup(driver.page_source, 'html.parser') # driver의 page source를 html로 parsing\n",
        "    \n",
        "    # 파싱한 것에서 주소 찾기\n",
        "    try:\n",
        "        addr = bs.find_all('div', 'addr')[0].find('p').text\n",
        "    except:\n",
        "        # 주소 없으면 nan으로 넣어주기\n",
        "        addr = np.nan\n",
        "        \n",
        "    addrs.append(addr)"
      ]
    },
    {
      "cell_type": "code",
      "execution_count": null,
      "id": "e200e36a",
      "metadata": {
        "ExecuteTime": {
          "end_time": "2022-06-26T18:30:27.942114Z",
          "start_time": "2022-06-26T18:30:27.929108Z"
        },
        "id": "e200e36a"
      },
      "outputs": [],
      "source": [
        "# address 넣어주기\n",
        "kp_df_na['address'] = addrs"
      ]
    },
    {
      "cell_type": "code",
      "execution_count": null,
      "id": "28b7e0af",
      "metadata": {
        "ExecuteTime": {
          "end_time": "2022-06-26T18:31:10.379985Z",
          "start_time": "2022-06-26T18:31:10.365024Z"
        },
        "id": "28b7e0af"
      },
      "outputs": [],
      "source": [
        "kp_df_na.to_csv('./Kplayground_na.csv', index=False, encoding='cp949')"
      ]
    },
    {
      "cell_type": "code",
      "execution_count": null,
      "id": "d5c98fd6",
      "metadata": {
        "id": "d5c98fd6"
      },
      "outputs": [],
      "source": [
        ""
      ]
    },
    {
      "cell_type": "code",
      "execution_count": null,
      "id": "966ff50f",
      "metadata": {
        "ExecuteTime": {
          "end_time": "2022-06-26T18:33:26.199297Z",
          "start_time": "2022-06-26T18:33:26.174399Z"
        },
        "id": "966ff50f",
        "outputId": "50ee829c-574d-4251-c4f6-ce3fe5f370c8"
      },
      "outputs": [
        {
          "data": {
            "text/html": [
              "<div>\n",
              "<style scoped>\n",
              "    .dataframe tbody tr th:only-of-type {\n",
              "        vertical-align: middle;\n",
              "    }\n",
              "\n",
              "    .dataframe tbody tr th {\n",
              "        vertical-align: top;\n",
              "    }\n",
              "\n",
              "    .dataframe thead th {\n",
              "        text-align: right;\n",
              "    }\n",
              "</style>\n",
              "<table border=\"1\" class=\"dataframe\">\n",
              "  <thead>\n",
              "    <tr style=\"text-align: right;\">\n",
              "      <th></th>\n",
              "      <th>city</th>\n",
              "      <th>district</th>\n",
              "      <th>name</th>\n",
              "      <th>address</th>\n",
              "      <th>type</th>\n",
              "    </tr>\n",
              "  </thead>\n",
              "  <tbody>\n",
              "    <tr>\n",
              "      <th>43</th>\n",
              "      <td>부산광역시</td>\n",
              "      <td>북구</td>\n",
              "      <td>구삼공원</td>\n",
              "      <td>NaN</td>\n",
              "      <td>public</td>\n",
              "    </tr>\n",
              "    <tr>\n",
              "      <th>64</th>\n",
              "      <td>부산광역시</td>\n",
              "      <td>중구</td>\n",
              "      <td>영주동아9블럭아파트 104동</td>\n",
              "      <td>NaN</td>\n",
              "      <td>private</td>\n",
              "    </tr>\n",
              "    <tr>\n",
              "      <th>65</th>\n",
              "      <td>부산광역시</td>\n",
              "      <td>중구</td>\n",
              "      <td>영주동아9블럭아파트 관리동</td>\n",
              "      <td>NaN</td>\n",
              "      <td>private</td>\n",
              "    </tr>\n",
              "    <tr>\n",
              "      <th>73</th>\n",
              "      <td>부산광역시</td>\n",
              "      <td>연제구</td>\n",
              "      <td>롯데캐슬 &amp; 태영데시앙 아파트 107동</td>\n",
              "      <td>NaN</td>\n",
              "      <td>private</td>\n",
              "    </tr>\n",
              "    <tr>\n",
              "      <th>74</th>\n",
              "      <td>부산광역시</td>\n",
              "      <td>연제구</td>\n",
              "      <td>롯데캐슬 &amp; 태영데시앙 아파트 104동</td>\n",
              "      <td>NaN</td>\n",
              "      <td>private</td>\n",
              "    </tr>\n",
              "    <tr>\n",
              "      <th>...</th>\n",
              "      <td>...</td>\n",
              "      <td>...</td>\n",
              "      <td>...</td>\n",
              "      <td>...</td>\n",
              "      <td>...</td>\n",
              "    </tr>\n",
              "    <tr>\n",
              "      <th>1183</th>\n",
              "      <td>제주도</td>\n",
              "      <td></td>\n",
              "      <td>제주첨단과학기술단지 꿈에그린 A2블록</td>\n",
              "      <td>NaN</td>\n",
              "      <td>private</td>\n",
              "    </tr>\n",
              "    <tr>\n",
              "      <th>1206</th>\n",
              "      <td>제주도</td>\n",
              "      <td></td>\n",
              "      <td>더오름카운티 연립주택</td>\n",
              "      <td>NaN</td>\n",
              "      <td>private</td>\n",
              "    </tr>\n",
              "    <tr>\n",
              "      <th>1208</th>\n",
              "      <td>제주도</td>\n",
              "      <td></td>\n",
              "      <td>첨단과학기술단지 A23블록</td>\n",
              "      <td>NaN</td>\n",
              "      <td>private</td>\n",
              "    </tr>\n",
              "    <tr>\n",
              "      <th>1209</th>\n",
              "      <td>제주도</td>\n",
              "      <td></td>\n",
              "      <td>첨단과학기술단지 A23블록</td>\n",
              "      <td>NaN</td>\n",
              "      <td>private</td>\n",
              "    </tr>\n",
              "    <tr>\n",
              "      <th>1210</th>\n",
              "      <td>제주도</td>\n",
              "      <td></td>\n",
              "      <td>첨단과학기술단지 A23블록</td>\n",
              "      <td>NaN</td>\n",
              "      <td>private</td>\n",
              "    </tr>\n",
              "  </tbody>\n",
              "</table>\n",
              "<p>151 rows × 5 columns</p>\n",
              "</div>"
            ],
            "text/plain": [
              "       city district                   name address     type\n",
              "43    부산광역시       북구                   구삼공원     NaN   public\n",
              "64    부산광역시       중구        영주동아9블럭아파트 104동     NaN  private\n",
              "65    부산광역시       중구         영주동아9블럭아파트 관리동     NaN  private\n",
              "73    부산광역시      연제구  롯데캐슬 & 태영데시앙 아파트 107동     NaN  private\n",
              "74    부산광역시      연제구  롯데캐슬 & 태영데시앙 아파트 104동     NaN  private\n",
              "...     ...      ...                    ...     ...      ...\n",
              "1183    제주도            제주첨단과학기술단지 꿈에그린 A2블록     NaN  private\n",
              "1206    제주도                     더오름카운티 연립주택     NaN  private\n",
              "1208    제주도                  첨단과학기술단지 A23블록     NaN  private\n",
              "1209    제주도                  첨단과학기술단지 A23블록     NaN  private\n",
              "1210    제주도                  첨단과학기술단지 A23블록     NaN  private\n",
              "\n",
              "[151 rows x 5 columns]"
            ]
          },
          "execution_count": 67,
          "metadata": {},
          "output_type": "execute_result"
        }
      ],
      "source": [
        "# 검색해도 안 나오는 것들\n",
        "kp_df_na[kp_df_na.address.isna()]"
      ]
    },
    {
      "cell_type": "markdown",
      "id": "dad01df3",
      "metadata": {
        "id": "dad01df3"
      },
      "source": [
        "# 좌표 가져오기"
      ]
    },
    {
      "cell_type": "code",
      "execution_count": null,
      "id": "4125893c",
      "metadata": {
        "id": "4125893c"
      },
      "outputs": [],
      "source": [
        "import requests\n",
        "from urllib.parse import urlparse\n",
        "from tqdm import tqdm"
      ]
    },
    {
      "cell_type": "code",
      "execution_count": null,
      "id": "1c6bb1e2",
      "metadata": {
        "ExecuteTime": {
          "end_time": "2022-06-27T21:44:03.158418Z",
          "start_time": "2022-06-27T21:44:03.124514Z"
        },
        "id": "1c6bb1e2"
      },
      "outputs": [],
      "source": [
        "na = pd.read_csv('./Kplayground_na.csv', encoding='cp949')\n",
        "notna = pd.read_csv('./Kplayground_notna.csv')"
      ]
    },
    {
      "cell_type": "code",
      "execution_count": null,
      "id": "e313bdba",
      "metadata": {
        "ExecuteTime": {
          "end_time": "2022-06-27T09:49:23.627416Z",
          "start_time": "2022-06-27T09:49:23.617407Z"
        },
        "id": "e313bdba"
      },
      "outputs": [],
      "source": [
        "# 보기 이쁘게 정리하고, 결측치 제거\n",
        "kp_df = pd.concat([na, notna])\n",
        "kp_df = kp_df.sort_values(['city', 'district']).reset_index(drop=True)\n",
        "kp_df = kp_df[kp_df.address.notna()].reset_index(drop=True)"
      ]
    },
    {
      "cell_type": "code",
      "execution_count": null,
      "id": "df546f71",
      "metadata": {
        "ExecuteTime": {
          "end_time": "2022-06-27T09:49:16.818103Z",
          "start_time": "2022-06-27T09:49:16.810132Z"
        },
        "id": "df546f71"
      },
      "outputs": [],
      "source": [
        "# 주소에서 위도, 경도 추출 함수 정의\n",
        "def address_to_latlon(address):\n",
        "    # query url\n",
        "    url = \"https://dapi.kakao.com/v2/local/search/address.json?&query=\" + address\n",
        "    # api를 사용함. header는 인증키\n",
        "    result = requests.get(urlparse(url).geturl(),\n",
        "                          headers={\"Authorization\":\"KakaoAK 5db6804f070497179a3c2db36211672f\"})\n",
        "    json_obj = result.json()\n",
        "    document = json_obj['documents'][0]\n",
        "    # 위도, 경도\n",
        "    val = [document['y'], document['x']]\n",
        "    return val"
      ]
    },
    {
      "cell_type": "code",
      "execution_count": null,
      "id": "25639b26",
      "metadata": {
        "ExecuteTime": {
          "end_time": "2022-06-27T09:38:51.785534Z",
          "start_time": "2022-06-27T09:38:51.711893Z"
        },
        "id": "25639b26",
        "outputId": "147b20b1-2e1b-4643-9dc9-181c4338ac5d"
      },
      "outputs": [
        {
          "data": {
            "text/plain": [
              "['35.2060878259846', '129.010269169539']"
            ]
          },
          "execution_count": 29,
          "metadata": {},
          "output_type": "execute_result"
        }
      ],
      "source": [
        "# 함수 테스트\n",
        "address_to_latlon(kp_df.address[0])"
      ]
    },
    {
      "cell_type": "code",
      "execution_count": null,
      "id": "32cbaf1a",
      "metadata": {
        "ExecuteTime": {
          "end_time": "2022-06-27T09:55:37.211099Z",
          "start_time": "2022-06-27T09:49:44.696855Z"
        },
        "id": "32cbaf1a",
        "outputId": "e0d0425b-f5c8-4efc-bba2-0aefc4e63d1f"
      },
      "outputs": [
        {
          "name": "stderr",
          "output_type": "stream",
          "text": [
            "100%|██████████████████████████████████████████████████████████████████████████████| 5283/5283 [05:52<00:00, 14.99it/s]\n"
          ]
        }
      ],
      "source": [
        "# address 가져오기\n",
        "ys = []\n",
        "xs = []\n",
        "for addr in tqdm(kp_df.address):\n",
        "    try:\n",
        "        y, x = address_to_latlon(addr)\n",
        "    except:\n",
        "        y = np.nan\n",
        "        x = np.nan\n",
        "    xs.append(x)\n",
        "    ys.append(y)"
      ]
    },
    {
      "cell_type": "code",
      "execution_count": null,
      "id": "187a5af6",
      "metadata": {
        "ExecuteTime": {
          "end_time": "2022-06-27T09:56:28.948103Z",
          "start_time": "2022-06-27T09:56:28.935138Z"
        },
        "id": "187a5af6"
      },
      "outputs": [],
      "source": [
        "# x, y 저장\n",
        "kp_df['x']=xs\n",
        "kp_df['y']=ys\n",
        "\n",
        "# 결측치 제거\n",
        "kp_df = kp_df[kp_df.x.notna()].reset_index(drop=True)\n",
        "\n",
        "# csv 저장\n",
        "kp_df.to_csv('./kp_df.csv', index=False, encoding='cp949')"
      ]
    }
  ],
  "metadata": {
    "hide_input": false,
    "kernelspec": {
      "display_name": "Python 3 (ipykernel)",
      "language": "python",
      "name": "python3"
    },
    "language_info": {
      "codemirror_mode": {
        "name": "ipython",
        "version": 3
      },
      "file_extension": ".py",
      "mimetype": "text/x-python",
      "name": "python",
      "nbconvert_exporter": "python",
      "pygments_lexer": "ipython3",
      "version": "3.9.12"
    },
    "toc": {
      "base_numbering": 1,
      "nav_menu": {},
      "number_sections": true,
      "sideBar": true,
      "skip_h1_title": false,
      "title_cell": "Table of Contents",
      "title_sidebar": "Contents",
      "toc_cell": false,
      "toc_position": {
        "height": "calc(100% - 180px)",
        "left": "10px",
        "top": "150px",
        "width": "324px"
      },
      "toc_section_display": true,
      "toc_window_display": false
    },
    "varInspector": {
      "cols": {
        "lenName": 16,
        "lenType": 16,
        "lenVar": 40
      },
      "kernels_config": {
        "python": {
          "delete_cmd_postfix": "",
          "delete_cmd_prefix": "del ",
          "library": "var_list.py",
          "varRefreshCmd": "print(var_dic_list())"
        },
        "r": {
          "delete_cmd_postfix": ") ",
          "delete_cmd_prefix": "rm(",
          "library": "var_list.r",
          "varRefreshCmd": "cat(var_dic_list()) "
        }
      },
      "position": {
        "height": "630.844px",
        "left": "1548px",
        "right": "20px",
        "top": "120px",
        "width": "352px"
      },
      "types_to_exclude": [
        "module",
        "function",
        "builtin_function_or_method",
        "instance",
        "_Feature"
      ],
      "window_display": false
    },
    "colab": {
      "name": "Kplayground preprocessing.ipynb",
      "provenance": [],
      "include_colab_link": true
    }
  },
  "nbformat": 4,
  "nbformat_minor": 5
}